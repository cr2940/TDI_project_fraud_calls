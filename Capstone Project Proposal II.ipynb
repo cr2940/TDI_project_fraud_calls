{
 "cells": [
  {
   "cell_type": "code",
   "execution_count": 1,
   "id": "d2492da2",
   "metadata": {},
   "outputs": [],
   "source": [
    "import pandas as pd\n",
    "import numpy as np\n",
    "import matplotlib.pyplot as plt\n",
    "from sklearn.linear_model import LinearRegression\n",
    "import itertools"
   ]
  },
  {
   "cell_type": "markdown",
   "id": "afda7817",
   "metadata": {},
   "source": [
    "# DO NOT CALL Numbers\n",
    "\n",
    "## The following data is from FTC.gov:\n",
    "\n",
    "https://www.ftc.gov/site-information/open-government/data-sets/do-not-call-data\n",
    "\n",
    "Here we look at some common area codes that affect different states."
   ]
  },
  {
   "cell_type": "code",
   "execution_count": 2,
   "id": "1d25e3ec",
   "metadata": {},
   "outputs": [
    {
     "data": {
      "text/html": [
       "<div>\n",
       "<style scoped>\n",
       "    .dataframe tbody tr th:only-of-type {\n",
       "        vertical-align: middle;\n",
       "    }\n",
       "\n",
       "    .dataframe tbody tr th {\n",
       "        vertical-align: top;\n",
       "    }\n",
       "\n",
       "    .dataframe thead th {\n",
       "        text-align: right;\n",
       "    }\n",
       "</style>\n",
       "<table border=\"1\" class=\"dataframe\">\n",
       "  <thead>\n",
       "    <tr style=\"text-align: right;\">\n",
       "      <th></th>\n",
       "      <th>Company_Phone_Number</th>\n",
       "      <th>Created_Date</th>\n",
       "      <th>Violation_Date</th>\n",
       "      <th>Consumer_City</th>\n",
       "      <th>Consumer_State</th>\n",
       "      <th>Consumer_Area_Code</th>\n",
       "      <th>Subject</th>\n",
       "      <th>Recorded_Message_Or_Robocall</th>\n",
       "    </tr>\n",
       "  </thead>\n",
       "  <tbody>\n",
       "    <tr>\n",
       "      <th>0</th>\n",
       "      <td>9792340943</td>\n",
       "      <td>2021-10-05 00:02:39</td>\n",
       "      <td>2021-09-28 17:13:00</td>\n",
       "      <td>NaN</td>\n",
       "      <td>Texas</td>\n",
       "      <td>832.0</td>\n",
       "      <td>No Subject Provided</td>\n",
       "      <td>NaN</td>\n",
       "    </tr>\n",
       "    <tr>\n",
       "      <th>1</th>\n",
       "      <td>2692086616</td>\n",
       "      <td>2021-10-05 00:02:42</td>\n",
       "      <td>2021-10-04 11:10:00</td>\n",
       "      <td>COLLEGE PLACE</td>\n",
       "      <td>Washington</td>\n",
       "      <td>269.0</td>\n",
       "      <td>Other</td>\n",
       "      <td>N</td>\n",
       "    </tr>\n",
       "    <tr>\n",
       "      <th>2</th>\n",
       "      <td>6787121203</td>\n",
       "      <td>2021-10-05 00:02:54</td>\n",
       "      <td>2021-10-04 15:45:00</td>\n",
       "      <td>Lilburn</td>\n",
       "      <td>Georgia</td>\n",
       "      <td>770.0</td>\n",
       "      <td>Other</td>\n",
       "      <td>Y</td>\n",
       "    </tr>\n",
       "    <tr>\n",
       "      <th>3</th>\n",
       "      <td>8328384664</td>\n",
       "      <td>2021-10-05 00:04:06</td>\n",
       "      <td>2021-09-28 10:35:00</td>\n",
       "      <td>NaN</td>\n",
       "      <td>Texas</td>\n",
       "      <td>832.0</td>\n",
       "      <td>No Subject Provided</td>\n",
       "      <td>NaN</td>\n",
       "    </tr>\n",
       "    <tr>\n",
       "      <th>4</th>\n",
       "      <td>2108951655</td>\n",
       "      <td>2021-10-05 00:03:43</td>\n",
       "      <td>2021-10-04 00:00:00</td>\n",
       "      <td>NaN</td>\n",
       "      <td>Texas</td>\n",
       "      <td>210.0</td>\n",
       "      <td>No Subject Provided</td>\n",
       "      <td>Y</td>\n",
       "    </tr>\n",
       "    <tr>\n",
       "      <th>...</th>\n",
       "      <td>...</td>\n",
       "      <td>...</td>\n",
       "      <td>...</td>\n",
       "      <td>...</td>\n",
       "      <td>...</td>\n",
       "      <td>...</td>\n",
       "      <td>...</td>\n",
       "      <td>...</td>\n",
       "    </tr>\n",
       "    <tr>\n",
       "      <th>20519</th>\n",
       "      <td>3309935416</td>\n",
       "      <td>2021-09-19 23:58:31</td>\n",
       "      <td>2021-09-16 11:00:00</td>\n",
       "      <td>NaN</td>\n",
       "      <td>Ohio</td>\n",
       "      <td>330.0</td>\n",
       "      <td>Dropped call or no message</td>\n",
       "      <td>Y</td>\n",
       "    </tr>\n",
       "    <tr>\n",
       "      <th>20520</th>\n",
       "      <td>8444411495</td>\n",
       "      <td>2021-09-19 23:59:33</td>\n",
       "      <td>2021-09-16 12:00:00</td>\n",
       "      <td>NaN</td>\n",
       "      <td>Ohio</td>\n",
       "      <td>330.0</td>\n",
       "      <td>Dropped call or no message</td>\n",
       "      <td>Y</td>\n",
       "    </tr>\n",
       "    <tr>\n",
       "      <th>20521</th>\n",
       "      <td>8662582105</td>\n",
       "      <td>2021-09-19 11:27:55</td>\n",
       "      <td>2021-09-17 11:27:04</td>\n",
       "      <td>NaN</td>\n",
       "      <td>Ohio</td>\n",
       "      <td>614.0</td>\n",
       "      <td>Other</td>\n",
       "      <td>NaN</td>\n",
       "    </tr>\n",
       "    <tr>\n",
       "      <th>20522</th>\n",
       "      <td>5055952181</td>\n",
       "      <td>2021-09-19 15:08:27</td>\n",
       "      <td>2021-09-16 16:20:00</td>\n",
       "      <td>ELYRIA</td>\n",
       "      <td>Ohio</td>\n",
       "      <td>440.0</td>\n",
       "      <td>Other</td>\n",
       "      <td>N</td>\n",
       "    </tr>\n",
       "    <tr>\n",
       "      <th>20523</th>\n",
       "      <td>7472946382</td>\n",
       "      <td>2021-09-19 18:49:57</td>\n",
       "      <td>2021-09-19 18:49:39</td>\n",
       "      <td>NaN</td>\n",
       "      <td>Ohio</td>\n",
       "      <td>614.0</td>\n",
       "      <td>Other</td>\n",
       "      <td>Y</td>\n",
       "    </tr>\n",
       "  </tbody>\n",
       "</table>\n",
       "<p>156440 rows × 8 columns</p>\n",
       "</div>"
      ],
      "text/plain": [
       "      Company_Phone_Number         Created_Date       Violation_Date  \\\n",
       "0               9792340943  2021-10-05 00:02:39  2021-09-28 17:13:00   \n",
       "1               2692086616  2021-10-05 00:02:42  2021-10-04 11:10:00   \n",
       "2               6787121203  2021-10-05 00:02:54  2021-10-04 15:45:00   \n",
       "3               8328384664  2021-10-05 00:04:06  2021-09-28 10:35:00   \n",
       "4               2108951655  2021-10-05 00:03:43  2021-10-04 00:00:00   \n",
       "...                    ...                  ...                  ...   \n",
       "20519           3309935416  2021-09-19 23:58:31  2021-09-16 11:00:00   \n",
       "20520           8444411495  2021-09-19 23:59:33  2021-09-16 12:00:00   \n",
       "20521           8662582105  2021-09-19 11:27:55  2021-09-17 11:27:04   \n",
       "20522           5055952181  2021-09-19 15:08:27  2021-09-16 16:20:00   \n",
       "20523           7472946382  2021-09-19 18:49:57  2021-09-19 18:49:39   \n",
       "\n",
       "       Consumer_City Consumer_State  Consumer_Area_Code  \\\n",
       "0                NaN          Texas               832.0   \n",
       "1      COLLEGE PLACE     Washington               269.0   \n",
       "2            Lilburn        Georgia               770.0   \n",
       "3                NaN          Texas               832.0   \n",
       "4                NaN          Texas               210.0   \n",
       "...              ...            ...                 ...   \n",
       "20519            NaN           Ohio               330.0   \n",
       "20520            NaN           Ohio               330.0   \n",
       "20521            NaN           Ohio               614.0   \n",
       "20522         ELYRIA           Ohio               440.0   \n",
       "20523            NaN           Ohio               614.0   \n",
       "\n",
       "                          Subject Recorded_Message_Or_Robocall  \n",
       "0             No Subject Provided                          NaN  \n",
       "1                           Other                            N  \n",
       "2                           Other                            Y  \n",
       "3             No Subject Provided                          NaN  \n",
       "4             No Subject Provided                            Y  \n",
       "...                           ...                          ...  \n",
       "20519  Dropped call or no message                            Y  \n",
       "20520  Dropped call or no message                            Y  \n",
       "20521                       Other                          NaN  \n",
       "20522                       Other                            N  \n",
       "20523                       Other                            Y  \n",
       "\n",
       "[156440 rows x 8 columns]"
      ]
     },
     "execution_count": 2,
     "metadata": {},
     "output_type": "execute_result"
    }
   ],
   "source": [
    "# Do Not Call numbers complaint reports taken from 9/20/21 - 10/6/21  (~ 18 MB)\n",
    "df = pd.read_csv('dnc_complaint_numbers_2021-10-06.csv');df\n",
    "df2 = pd.read_csv('dnc_complaint_numbers_2021-10-05.csv');df2 \n",
    "df3 = pd.read_csv('dnc_complaint_numbers_2021-10-04.csv');df3\n",
    "df4 = pd.read_csv('dnc_complaint_numbers_2021-10-01.csv');df4\n",
    "df5 = pd.read_csv('dnc_complaint_numbers_2021-09-27.csv');df4\n",
    "df6 = pd.read_csv('dnc_complaint_numbers_2021-09-28.csv');df4\n",
    "df7 = pd.read_csv('dnc_complaint_numbers_2021-09-24.csv');df4\n",
    "df8 = pd.read_csv('dnc_complaint_numbers_2021-09-23.csv');df4\n",
    "df9 = pd.read_csv('dnc_complaint_numbers_2021-09-22.csv');df4\n",
    "df10 = pd.read_csv('dnc_complaint_numbers_2021-09-21.csv');df4\n",
    "df11 = pd.read_csv('dnc_complaint_numbers_2021-09-20.csv');df4\n",
    "\n",
    "# All Concatenated Togeter\n",
    "df_oct_wk = pd.concat([df,df2,df3,df4,df5,df6,df7,df8,df9,df10,df11])\n",
    "df_oct_wk"
   ]
  },
  {
   "cell_type": "markdown",
   "id": "99ef9e88",
   "metadata": {},
   "source": [
    "### Some Data Cleaning: Very messy data due to human reporting error"
   ]
  },
  {
   "cell_type": "code",
   "execution_count": 3,
   "id": "8c3edb4a",
   "metadata": {},
   "outputs": [
    {
     "name": "stdout",
     "output_type": "stream",
     "text": [
      "1        2692086616\n",
      "2        6787121203\n",
      "8        2694764832\n",
      "9        6099314008\n",
      "12       6098215854\n",
      "            ...    \n",
      "20510    6083716666\n",
      "20511    8565748098\n",
      "20512    8003749700\n",
      "20515    4156619737\n",
      "20522    5055952181\n",
      "Name: Company_Phone_Number, Length: 85829, dtype: object\n",
      "1        2692086616\n",
      "2        6787121203\n",
      "8        2694764832\n",
      "9        6099314008\n",
      "12       6098215854\n",
      "            ...    \n",
      "20510    6083716666\n",
      "20511    8565748098\n",
      "20512    8003749700\n",
      "20515    4156619737\n",
      "20522    5055952181\n",
      "Name: Company_Phone_Number, Length: 85692, dtype: object\n",
      "1        2692086616\n",
      "2        6787121203\n",
      "8        2694764832\n",
      "9        6099314008\n",
      "12       6098215854\n",
      "            ...    \n",
      "20510    6083716666\n",
      "20511    8565748098\n",
      "20512    8003749700\n",
      "20515    4156619737\n",
      "20522    5055952181\n",
      "Name: Company_Phone_Number, Length: 85691, dtype: object\n",
      "1        2692086616\n",
      "2        6787121203\n",
      "8        2694764832\n",
      "9        6099314008\n",
      "12       6098215854\n",
      "            ...    \n",
      "20510    6083716666\n",
      "20511    8565748098\n",
      "20512    8003749700\n",
      "20515    4156619737\n",
      "20522    5055952181\n",
      "Name: Company_Phone_Number, Length: 85691, dtype: object\n"
     ]
    }
   ],
   "source": [
    "for i in range(2):\n",
    "    # for some reason running the code once does not get rid of empty string row, but running it twice does:\n",
    "    df_oct_wk = df_oct_wk[df_oct_wk[\"Company_Phone_Number\"]!='']\n",
    "    \n",
    "    # cleaning data, getting rid of nan, alphabetical entries, special characters, bytestrings\n",
    "    df_oct_wk = df_oct_wk.dropna()\n",
    "    print(df_oct_wk[\"Company_Phone_Number\"])\n",
    "    df_oct_wk = df_oct_wk[~df_oct_wk[\"Company_Phone_Number\"].str.isalpha()]\n",
    "    alphabets=['a', 'b', 'c', 'd', 'e', 'f', 'g', 'h', 'i', 'j', 'k', 'l', 'm', 'n', 'o', 'p', 'q', 'r', 's', 't', 'u', 'v', 'w', 'x', 'y', 'z',\\\n",
    "              'A', 'B', 'C', 'D', 'E', 'F', 'G', 'H', 'I', 'J', 'K', 'L', 'M', 'N', 'O', 'P', 'Q', 'R', 'S', 'T', 'U', 'V', 'W', 'X', 'Y', 'Z']\n",
    "    for c in alphabets:\n",
    "        df_oct_wk = df_oct_wk[~df_oct_wk[\"Company_Phone_Number\"].str.contains(c)]\n",
    "    print(df_oct_wk[\"Company_Phone_Number\"])\n",
    "    replacement_dict = {'–':'','a':'','b':'','c':'','d':'','e':'','f':'','g':'', \\\n",
    "                                                  'h':'','i':'','k':'','l':'','m':'','n':'','o':'','p':'','q':'','r':'', \\\n",
    "                                                  's':'','t':'','u':'','v':'','w':'','x':'','y':'','z':'','!':'', \\\n",
    "                                                  '@':'','#':'','$':'','%':'','^':'','&':'','*':'','(':'',')':'','?':'',\\\n",
    "                       'A':'','B':'','C':'','D':'','E':'','X':'','Y':'','Z':'','F':'','\\xa0':'','=':'',';':'','`':'','´':''}\n",
    "    for i, (k, v) in enumerate(replacement_dict.items()):\n",
    "        df_oct_wk[\"Company_Phone_Number\"]=df_oct_wk[\"Company_Phone_Number\"].str.replace(k,v,regex=False)\n",
    "    \n",
    "\n",
    "# make area code column\n",
    "df_oct_wk[\"Scam AreaCode\"] = round(df_oct_wk[\"Company_Phone_Number\"].astype(float)/10**7)\n",
    "df_oct_wk[\"Scam AreaCode\"] = df_oct_wk[\"Scam AreaCode\"].astype(int)"
   ]
  },
  {
   "cell_type": "markdown",
   "id": "6bcd5c41",
   "metadata": {},
   "source": [
    "# Where are the spammers and scammers calling from?\n",
    "\n",
    "## Similarity by proximity?\n",
    "\n",
    "We want to see if there are similar scammer area codes that call nearby regions, so we selected GA and AL, and NY and NJ. However, each state has most number of scam calls from different states.\n",
    "\n",
    "In fact, one state, NJ, has the most spammers and scammers from area code 974 , which is unidentifiable."
   ]
  },
  {
   "cell_type": "code",
   "execution_count": 4,
   "id": "3019edaa",
   "metadata": {},
   "outputs": [
    {
     "name": "stdout",
     "output_type": "stream",
     "text": [
      "The most common area code that is on the spam list for Georgia is  707 which is from California\n"
     ]
    },
    {
     "data": {
      "image/png": "[encoded data removed]",
      "text/plain": [
       "<Figure size 432x288 with 1 Axes>"
      ]
     },
     "metadata": {
      "needs_background": "light"
     },
     "output_type": "display_data"
    }
   ],
   "source": [
    "# Most common scam number in Georgia\n",
    "scams_GA = df_oct_wk[df_oct_wk[\"Consumer_State\"]==\"Georgia\"]\n",
    "scams_GA = scams_GA[(scams_GA[\"Scam AreaCode\"]>100) & (scams_GA[\"Scam AreaCode\"]<1000)]\n",
    "scams_GA_AREA = scams_GA[\"Scam AreaCode\"]\n",
    "mostcom = scams_GA_AREA.mode()\n",
    "\n",
    "scams_GA_AREA.plot.hist()\n",
    "plt.title(\"Histogram of area codes of scam calls in Georgia\")\n",
    "print(\"The most common area code that is on the spam list for Georgia is \", int(mostcom), \"which is from California\")\n"
   ]
  },
  {
   "cell_type": "code",
   "execution_count": 5,
   "id": "9e51037f",
   "metadata": {},
   "outputs": [
    {
     "name": "stdout",
     "output_type": "stream",
     "text": [
      "The most common area code that is on the spam list for Alabama is  206 which is from Washington\n"
     ]
    },
    {
     "data": {
      "image/png": "[encoded data removed]",
      "text/plain": [
       "<Figure size 432x288 with 1 Axes>"
      ]
     },
     "metadata": {
      "needs_background": "light"
     },
     "output_type": "display_data"
    }
   ],
   "source": [
    "# Most common scam number in Alabama\n",
    "scams_AL = df_oct_wk[df_oct_wk[\"Consumer_State\"]==\"Alabama\"]\n",
    "scams_AL = scams_AL[(scams_AL[\"Scam AreaCode\"]>100) & (scams_AL[\"Scam AreaCode\"]<1000)]\n",
    "scams_AL_AREA = scams_AL[\"Scam AreaCode\"]\n",
    "mostcom = scams_AL_AREA.mode()\n",
    "\n",
    "scams_AL_AREA.hist()\n",
    "plt.title(\"Histogram of area codes of scam calls in Alabama\")\n",
    "print(\"The most common area code that is on the spam list for Alabama is \", int(mostcom), \"which is from Washington\")\n"
   ]
  },
  {
   "cell_type": "code",
   "execution_count": 6,
   "id": "9bc69a88",
   "metadata": {},
   "outputs": [
    {
     "name": "stdout",
     "output_type": "stream",
     "text": [
      "The most common area code that is on the spam list for New York is  719 which is from Colorado\n"
     ]
    },
    {
     "data": {
      "image/png": "[encoded data removed]",
      "text/plain": [
       "<Figure size 432x288 with 1 Axes>"
      ]
     },
     "metadata": {
      "needs_background": "light"
     },
     "output_type": "display_data"
    }
   ],
   "source": [
    "# Most common scam number in New York\n",
    "scams_NY = df_oct_wk[df_oct_wk[\"Consumer_State\"]==\"New York\"]\n",
    "scams_NY = scams_NY[(scams_NY[\"Scam AreaCode\"]>100) & (scams_NY[\"Scam AreaCode\"]<1000)]\n",
    "scams_NY_AREA = scams_NY[\"Scam AreaCode\"]\n",
    "mostcom = scams_NY_AREA.mode()\n",
    "\n",
    "scams_NY_AREA.hist()\n",
    "plt.title(\"Histogram of area codes of scam calls in New York\")\n",
    "print(\"The most common area code that is on the spam list for New York is \", int(mostcom), \"which is from Colorado\")\n",
    "\n"
   ]
  },
  {
   "cell_type": "code",
   "execution_count": 7,
   "id": "d504499d",
   "metadata": {},
   "outputs": [
    {
     "name": "stdout",
     "output_type": "stream",
     "text": [
      "The most common area code that is on the spam list for New Jersey is  974 which is unidentifiable\n"
     ]
    },
    {
     "data": {
      "image/png": "[encoded data removed]",
      "text/plain": [
       "<Figure size 432x288 with 1 Axes>"
      ]
     },
     "metadata": {
      "needs_background": "light"
     },
     "output_type": "display_data"
    }
   ],
   "source": [
    "# Most common scam number in New Jersey\n",
    "scams_NJ = df_oct_wk[df_oct_wk[\"Consumer_State\"]==\"New Jersey\"]\n",
    "scams_NJ = scams_NJ[(scams_NJ[\"Scam AreaCode\"]>100) & (scams_NJ[\"Scam AreaCode\"]<1000)]\n",
    "scams_NJ_AREA = scams_NJ[\"Scam AreaCode\"]\n",
    "mostcom = scams_NJ_AREA.mode()\n",
    "\n",
    "scams_NJ_AREA.hist()\n",
    "plt.title(\"Histogram of area codes of scam calls in New Jersey\")\n",
    "print(\"The most common area code that is on the spam list for New Jersey is \", int(mostcom), \"which is unidentifiable\")\n"
   ]
  }
 ],
 "metadata": {
  "kernelspec": {
   "display_name": "Python 3",
   "language": "python",
   "name": "python3"
  },
  "language_info": {
   "codemirror_mode": {
    "name": "ipython",
    "version": 3
   },
   "file_extension": ".py",
   "mimetype": "text/x-python",
   "name": "python",
   "nbconvert_exporter": "python",
   "pygments_lexer": "ipython3",
   "version": "3.8.8"
  }
 },
 "nbformat": 4,
 "nbformat_minor": 5
}
