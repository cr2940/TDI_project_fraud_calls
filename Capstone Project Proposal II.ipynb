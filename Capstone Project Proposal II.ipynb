{
 "cells": [
  {
   "cell_type": "code",
   "execution_count": 1,
   "id": "e269af18",
   "metadata": {},
   "outputs": [],
   "source": [
    "import pandas as pd\n",
    "import numpy as np\n",
    "import matplotlib.pyplot as plt\n",
    "from sklearn.linear_model import LinearRegression\n",
    "import itertools\n",
    "import warnings\n",
    "warnings.simplefilter(\"ignore\")\n",
    "# import plotly.graph_objects as go"
   ]
  },
  {
   "cell_type": "markdown",
   "id": "70037765",
   "metadata": {},
   "source": [
    "# DO NOT CALL Numbers\n",
    "\n",
    "## The following data is from FTC.gov:\n",
    "\n",
    "https://www.ftc.gov/site-information/open-government/data-sets/do-not-call-data\n",
    "\n",
    "Here we look at some common area codes that affect different states."
   ]
  },
  {
   "cell_type": "code",
   "execution_count": 2,
   "id": "7baa8a6e",
   "metadata": {},
   "outputs": [
    {
     "data": {
      "text/html": [
       "<div>\n",
       "<style scoped>\n",
       "    .dataframe tbody tr th:only-of-type {\n",
       "        vertical-align: middle;\n",
       "    }\n",
       "\n",
       "    .dataframe tbody tr th {\n",
       "        vertical-align: top;\n",
       "    }\n",
       "\n",
       "    .dataframe thead th {\n",
       "        text-align: right;\n",
       "    }\n",
       "</style>\n",
       "<table border=\"1\" class=\"dataframe\">\n",
       "  <thead>\n",
       "    <tr style=\"text-align: right;\">\n",
       "      <th></th>\n",
       "      <th>Company_Phone_Number</th>\n",
       "      <th>Created_Date</th>\n",
       "      <th>Violation_Date</th>\n",
       "      <th>Consumer_City</th>\n",
       "      <th>Consumer_State</th>\n",
       "      <th>Consumer_Area_Code</th>\n",
       "      <th>Subject</th>\n",
       "      <th>Recorded_Message_Or_Robocall</th>\n",
       "    </tr>\n",
       "  </thead>\n",
       "  <tbody>\n",
       "    <tr>\n",
       "      <th>0</th>\n",
       "      <td>9792340943</td>\n",
       "      <td>2021-10-05 00:02:39</td>\n",
       "      <td>2021-09-28 17:13:00</td>\n",
       "      <td>NaN</td>\n",
       "      <td>Texas</td>\n",
       "      <td>832.0</td>\n",
       "      <td>No Subject Provided</td>\n",
       "      <td>NaN</td>\n",
       "    </tr>\n",
       "    <tr>\n",
       "      <th>1</th>\n",
       "      <td>2692086616</td>\n",
       "      <td>2021-10-05 00:02:42</td>\n",
       "      <td>2021-10-04 11:10:00</td>\n",
       "      <td>COLLEGE PLACE</td>\n",
       "      <td>Washington</td>\n",
       "      <td>269.0</td>\n",
       "      <td>Other</td>\n",
       "      <td>N</td>\n",
       "    </tr>\n",
       "    <tr>\n",
       "      <th>2</th>\n",
       "      <td>6787121203</td>\n",
       "      <td>2021-10-05 00:02:54</td>\n",
       "      <td>2021-10-04 15:45:00</td>\n",
       "      <td>Lilburn</td>\n",
       "      <td>Georgia</td>\n",
       "      <td>770.0</td>\n",
       "      <td>Other</td>\n",
       "      <td>Y</td>\n",
       "    </tr>\n",
       "    <tr>\n",
       "      <th>3</th>\n",
       "      <td>8328384664</td>\n",
       "      <td>2021-10-05 00:04:06</td>\n",
       "      <td>2021-09-28 10:35:00</td>\n",
       "      <td>NaN</td>\n",
       "      <td>Texas</td>\n",
       "      <td>832.0</td>\n",
       "      <td>No Subject Provided</td>\n",
       "      <td>NaN</td>\n",
       "    </tr>\n",
       "    <tr>\n",
       "      <th>4</th>\n",
       "      <td>2108951655</td>\n",
       "      <td>2021-10-05 00:03:43</td>\n",
       "      <td>2021-10-04 00:00:00</td>\n",
       "      <td>NaN</td>\n",
       "      <td>Texas</td>\n",
       "      <td>210.0</td>\n",
       "      <td>No Subject Provided</td>\n",
       "      <td>Y</td>\n",
       "    </tr>\n",
       "    <tr>\n",
       "      <th>...</th>\n",
       "      <td>...</td>\n",
       "      <td>...</td>\n",
       "      <td>...</td>\n",
       "      <td>...</td>\n",
       "      <td>...</td>\n",
       "      <td>...</td>\n",
       "      <td>...</td>\n",
       "      <td>...</td>\n",
       "    </tr>\n",
       "    <tr>\n",
       "      <th>20519</th>\n",
       "      <td>3309935416</td>\n",
       "      <td>2021-09-19 23:58:31</td>\n",
       "      <td>2021-09-16 11:00:00</td>\n",
       "      <td>NaN</td>\n",
       "      <td>Ohio</td>\n",
       "      <td>330.0</td>\n",
       "      <td>Dropped call or no message</td>\n",
       "      <td>Y</td>\n",
       "    </tr>\n",
       "    <tr>\n",
       "      <th>20520</th>\n",
       "      <td>8444411495</td>\n",
       "      <td>2021-09-19 23:59:33</td>\n",
       "      <td>2021-09-16 12:00:00</td>\n",
       "      <td>NaN</td>\n",
       "      <td>Ohio</td>\n",
       "      <td>330.0</td>\n",
       "      <td>Dropped call or no message</td>\n",
       "      <td>Y</td>\n",
       "    </tr>\n",
       "    <tr>\n",
       "      <th>20521</th>\n",
       "      <td>8662582105</td>\n",
       "      <td>2021-09-19 11:27:55</td>\n",
       "      <td>2021-09-17 11:27:04</td>\n",
       "      <td>NaN</td>\n",
       "      <td>Ohio</td>\n",
       "      <td>614.0</td>\n",
       "      <td>Other</td>\n",
       "      <td>NaN</td>\n",
       "    </tr>\n",
       "    <tr>\n",
       "      <th>20522</th>\n",
       "      <td>5055952181</td>\n",
       "      <td>2021-09-19 15:08:27</td>\n",
       "      <td>2021-09-16 16:20:00</td>\n",
       "      <td>ELYRIA</td>\n",
       "      <td>Ohio</td>\n",
       "      <td>440.0</td>\n",
       "      <td>Other</td>\n",
       "      <td>N</td>\n",
       "    </tr>\n",
       "    <tr>\n",
       "      <th>20523</th>\n",
       "      <td>7472946382</td>\n",
       "      <td>2021-09-19 18:49:57</td>\n",
       "      <td>2021-09-19 18:49:39</td>\n",
       "      <td>NaN</td>\n",
       "      <td>Ohio</td>\n",
       "      <td>614.0</td>\n",
       "      <td>Other</td>\n",
       "      <td>Y</td>\n",
       "    </tr>\n",
       "  </tbody>\n",
       "</table>\n",
       "<p>156440 rows × 8 columns</p>\n",
       "</div>"
      ],
      "text/plain": [
       "      Company_Phone_Number         Created_Date       Violation_Date  \\\n",
       "0               9792340943  2021-10-05 00:02:39  2021-09-28 17:13:00   \n",
       "1               2692086616  2021-10-05 00:02:42  2021-10-04 11:10:00   \n",
       "2               6787121203  2021-10-05 00:02:54  2021-10-04 15:45:00   \n",
       "3               8328384664  2021-10-05 00:04:06  2021-09-28 10:35:00   \n",
       "4               2108951655  2021-10-05 00:03:43  2021-10-04 00:00:00   \n",
       "...                    ...                  ...                  ...   \n",
       "20519           3309935416  2021-09-19 23:58:31  2021-09-16 11:00:00   \n",
       "20520           8444411495  2021-09-19 23:59:33  2021-09-16 12:00:00   \n",
       "20521           8662582105  2021-09-19 11:27:55  2021-09-17 11:27:04   \n",
       "20522           5055952181  2021-09-19 15:08:27  2021-09-16 16:20:00   \n",
       "20523           7472946382  2021-09-19 18:49:57  2021-09-19 18:49:39   \n",
       "\n",
       "       Consumer_City Consumer_State  Consumer_Area_Code  \\\n",
       "0                NaN          Texas               832.0   \n",
       "1      COLLEGE PLACE     Washington               269.0   \n",
       "2            Lilburn        Georgia               770.0   \n",
       "3                NaN          Texas               832.0   \n",
       "4                NaN          Texas               210.0   \n",
       "...              ...            ...                 ...   \n",
       "20519            NaN           Ohio               330.0   \n",
       "20520            NaN           Ohio               330.0   \n",
       "20521            NaN           Ohio               614.0   \n",
       "20522         ELYRIA           Ohio               440.0   \n",
       "20523            NaN           Ohio               614.0   \n",
       "\n",
       "                          Subject Recorded_Message_Or_Robocall  \n",
       "0             No Subject Provided                          NaN  \n",
       "1                           Other                            N  \n",
       "2                           Other                            Y  \n",
       "3             No Subject Provided                          NaN  \n",
       "4             No Subject Provided                            Y  \n",
       "...                           ...                          ...  \n",
       "20519  Dropped call or no message                            Y  \n",
       "20520  Dropped call or no message                            Y  \n",
       "20521                       Other                          NaN  \n",
       "20522                       Other                            N  \n",
       "20523                       Other                            Y  \n",
       "\n",
       "[156440 rows x 8 columns]"
      ]
     },
     "execution_count": 2,
     "metadata": {},
     "output_type": "execute_result"
    }
   ],
   "source": [
    "# Do Not Call numbers complaint reports taken from 9/20/21 - 10/6/21  (~ 18 MB)\n",
    "df = pd.read_csv('dnc_complaint_numbers_2021-10-06.csv');df\n",
    "df2 = pd.read_csv('dnc_complaint_numbers_2021-10-05.csv');df2 \n",
    "df3 = pd.read_csv('dnc_complaint_numbers_2021-10-04.csv');df3\n",
    "df4 = pd.read_csv('dnc_complaint_numbers_2021-10-01.csv');df4\n",
    "df5 = pd.read_csv('dnc_complaint_numbers_2021-09-27.csv');df4\n",
    "df6 = pd.read_csv('dnc_complaint_numbers_2021-09-28.csv');df4\n",
    "df7 = pd.read_csv('dnc_complaint_numbers_2021-09-24.csv');df4\n",
    "df8 = pd.read_csv('dnc_complaint_numbers_2021-09-23.csv');df4\n",
    "df9 = pd.read_csv('dnc_complaint_numbers_2021-09-22.csv');df4\n",
    "df10 = pd.read_csv('dnc_complaint_numbers_2021-09-21.csv');df4\n",
    "df11 = pd.read_csv('dnc_complaint_numbers_2021-09-20.csv');df4\n",
    "\n",
    "# All Concatenated Togeter\n",
    "df_oct_wk = pd.concat([df,df2,df3,df4,df5,df6,df7,df8,df9,df10,df11])\n",
    "df_oct_wk"
   ]
  },
  {
   "cell_type": "markdown",
   "id": "da9418e4",
   "metadata": {},
   "source": [
    "### Some Data Cleaning: Very messy data due to human reporting error"
   ]
  },
  {
   "cell_type": "code",
   "execution_count": 3,
   "id": "aadfaa8d",
   "metadata": {},
   "outputs": [
    {
     "name": "stdout",
     "output_type": "stream",
     "text": [
      "1        2692086616\n",
      "2        6787121203\n",
      "8        2694764832\n",
      "9        6099314008\n",
      "12       6098215854\n",
      "            ...    \n",
      "20510    6083716666\n",
      "20511    8565748098\n",
      "20512    8003749700\n",
      "20515    4156619737\n",
      "20522    5055952181\n",
      "Name: Company_Phone_Number, Length: 85829, dtype: object\n",
      "1        2692086616\n",
      "2        6787121203\n",
      "8        2694764832\n",
      "9        6099314008\n",
      "12       6098215854\n",
      "            ...    \n",
      "20510    6083716666\n",
      "20511    8565748098\n",
      "20512    8003749700\n",
      "20515    4156619737\n",
      "20522    5055952181\n",
      "Name: Company_Phone_Number, Length: 85692, dtype: object\n",
      "1        2692086616\n",
      "2        6787121203\n",
      "8        2694764832\n",
      "9        6099314008\n",
      "12       6098215854\n",
      "            ...    \n",
      "20510    6083716666\n",
      "20511    8565748098\n",
      "20512    8003749700\n",
      "20515    4156619737\n",
      "20522    5055952181\n",
      "Name: Company_Phone_Number, Length: 85691, dtype: object\n",
      "1        2692086616\n",
      "2        6787121203\n",
      "8        2694764832\n",
      "9        6099314008\n",
      "12       6098215854\n",
      "            ...    \n",
      "20510    6083716666\n",
      "20511    8565748098\n",
      "20512    8003749700\n",
      "20515    4156619737\n",
      "20522    5055952181\n",
      "Name: Company_Phone_Number, Length: 85691, dtype: object\n"
     ]
    }
   ],
   "source": [
    "for i in range(2):\n",
    "    # for some reason running the code once does not get rid of empty string row, but running it twice does:\n",
    "    df_oct_wk = df_oct_wk[df_oct_wk[\"Company_Phone_Number\"]!='']\n",
    "    \n",
    "    # cleaning data, getting rid of nan, alphabetical entries, special characters, bytestrings\n",
    "    df_oct_wk = df_oct_wk.dropna()\n",
    "    print(df_oct_wk[\"Company_Phone_Number\"])\n",
    "    df_oct_wk = df_oct_wk[~df_oct_wk[\"Company_Phone_Number\"].str.isalpha()]\n",
    "    alphabets=['a', 'b', 'c', 'd', 'e', 'f', 'g', 'h', 'i', 'j', 'k', 'l', 'm', 'n', 'o', 'p', 'q', 'r', 's', 't', 'u', 'v', 'w', 'x', 'y', 'z',\\\n",
    "              'A', 'B', 'C', 'D', 'E', 'F', 'G', 'H', 'I', 'J', 'K', 'L', 'M', 'N', 'O', 'P', 'Q', 'R', 'S', 'T', 'U', 'V', 'W', 'X', 'Y', 'Z']\n",
    "    for c in alphabets:\n",
    "        df_oct_wk = df_oct_wk[~df_oct_wk[\"Company_Phone_Number\"].str.contains(c)]\n",
    "    print(df_oct_wk[\"Company_Phone_Number\"])\n",
    "    replacement_dict = {'–':'','a':'','b':'','c':'','d':'','e':'','f':'','g':'', \\\n",
    "                                                  'h':'','i':'','k':'','l':'','m':'','n':'','o':'','p':'','q':'','r':'', \\\n",
    "                                                  's':'','t':'','u':'','v':'','w':'','x':'','y':'','z':'','!':'', \\\n",
    "                                                  '@':'','#':'','$':'','%':'','^':'','&':'','*':'','(':'',')':'','?':'',\\\n",
    "                       'A':'','B':'','C':'','D':'','E':'','X':'','Y':'','Z':'','F':'','\\xa0':'','=':'',';':'','`':'','´':''}\n",
    "    for i, (k, v) in enumerate(replacement_dict.items()):\n",
    "        df_oct_wk[\"Company_Phone_Number\"]=df_oct_wk[\"Company_Phone_Number\"].str.replace(k,v,regex=False)\n",
    "    \n",
    "\n",
    "# make area code column\n",
    "df_oct_wk[\"Scam AreaCode\"] = round(df_oct_wk[\"Company_Phone_Number\"].astype(float)/10**7)\n",
    "df_oct_wk[\"Scam AreaCode\"] = df_oct_wk[\"Scam AreaCode\"].astype(int)"
   ]
  },
  {
   "cell_type": "markdown",
   "id": "a500c869",
   "metadata": {},
   "source": [
    "## State Coordinates Data for Mapping Later: \n",
    "\n",
    "https://raw.githubusercontent.com/jasperdebie/VisInfo/master/us-state-capitals.csv\n",
    "\n",
    "https://worldpopulationreview.com/states/state-abbreviations"
   ]
  },
  {
   "cell_type": "code",
   "execution_count": 4,
   "id": "3484b73c",
   "metadata": {},
   "outputs": [],
   "source": [
    "states_coords_url =\"https://raw.githubusercontent.com/jasperdebie/VisInfo/master/us-state-capitals.csv\"\n",
    "df_st_co = pd.read_csv(states_coords_url)\n",
    "df_st = pd.read_csv('./state_code.csv')\n",
    "df_st_coord_code = pd.merge(df_st_co,df_st[[\"State\",\"Code\"]],how='left',left_on='name',right_on='State')\n",
    "df_st_coord_code = df_st_coord_code.drop(columns=\"State\")\n",
    "df_st_coords = df_st_coord_code[[\"Code\",\"latitude\",\"longitude\"]]; \n",
    "\n",
    "# add DC:\n",
    "DC_row = pd.Series({\"Code\":\"DC\",\"latitude\":38.9072,\"longitude\":77.0369},name=50)\n",
    "df_st_coords = df_st_coords.append(DC_row)"
   ]
  },
  {
   "cell_type": "markdown",
   "id": "cce0ceab",
   "metadata": {},
   "source": [
    "# Area Code by State --> Coordinates by Area Code\n",
    "\n",
    "## Data for mapping between area code and state: from North American Numbering Plan Administrator (NANPA)\n",
    "\n",
    "https://www.nationalnanpa.com/enas/geoAreaCodeNumberReport.do"
   ]
  },
  {
   "cell_type": "code",
   "execution_count": 14,
   "id": "20c26b6f",
   "metadata": {},
   "outputs": [
    {
     "data": {
      "text/html": [
       "<div>\n",
       "<style scoped>\n",
       "    .dataframe tbody tr th:only-of-type {\n",
       "        vertical-align: middle;\n",
       "    }\n",
       "\n",
       "    .dataframe tbody tr th {\n",
       "        vertical-align: top;\n",
       "    }\n",
       "\n",
       "    .dataframe thead th {\n",
       "        text-align: right;\n",
       "    }\n",
       "</style>\n",
       "<table border=\"1\" class=\"dataframe\">\n",
       "  <thead>\n",
       "    <tr style=\"text-align: right;\">\n",
       "      <th></th>\n",
       "      <th>NPA</th>\n",
       "      <th>Unnamed: 2</th>\n",
       "      <th>Code</th>\n",
       "      <th>latitude</th>\n",
       "      <th>longitude</th>\n",
       "    </tr>\n",
       "  </thead>\n",
       "  <tbody>\n",
       "  </tbody>\n",
       "</table>\n",
       "</div>"
      ],
      "text/plain": [
       "Empty DataFrame\n",
       "Columns: [NPA, Unnamed: 2, Code, latitude, longitude]\n",
       "Index: []"
      ]
     },
     "execution_count": 14,
     "metadata": {},
     "output_type": "execute_result"
    }
   ],
   "source": [
    "df_areaco_st = pd.read_excel('./area_code_state.xlsx')\n",
    "df_area_co_st_coord = pd.merge(df_areaco_st,df_st_coords,how=\"left\",left_on=\"Location\",right_on=\"Code\")\n",
    "# df_area_co_st_coord = df_area_co_st_coord.dropna();\n",
    "# df_area_co_st_coord = df_area_co_st_coord.drop(columns='Location')\n",
    "df_area_co_st_coord.head()"
   ]
  },
  {
   "cell_type": "markdown",
   "id": "9937a431",
   "metadata": {},
   "source": [
    "# Where are the spammers and scammers calling from?\n",
    "\n",
    "## Similarity by proximity?\n",
    "\n",
    "We want to see if there are similar scammer area codes that call nearby regions, so we selected GA and AL, and NY and NJ. Unfortunately, each state has most number of scam calls from its own state. However, we found that the most common area code number is from different states.\n",
    "\n",
    "In fact, one state, NJ, has the most spammers and scammers from area code 974 , which is unidentifiable."
   ]
  },
  {
   "cell_type": "code",
   "execution_count": 6,
   "id": "fdf3068e",
   "metadata": {},
   "outputs": [
    {
     "name": "stdout",
     "output_type": "stream",
     "text": [
      "The most common area code that is on the spam list for Georgia is  707 which is from California\n"
     ]
    },
    {
     "data": {
      "image/png": "[encoded data removed]",
      "text/plain": [
       "<Figure size 432x288 with 1 Axes>"
      ]
     },
     "metadata": {
      "needs_background": "light"
     },
     "output_type": "display_data"
    }
   ],
   "source": [
    "# Most common scam number in Georgia\n",
    "scams_GA = df_oct_wk[df_oct_wk[\"Consumer_State\"]==\"Georgia\"]\n",
    "scams_GA = scams_GA[(scams_GA[\"Scam AreaCode\"]>100) & (scams_GA[\"Scam AreaCode\"]<1000)]\n",
    "scams_GA[\"Scam AreaCode\"].value_counts()\n",
    "scams_GA\n",
    "scams_GA_AREA = scams_GA[\"Scam AreaCode\"]\n",
    "mostcom = scams_GA_AREA.mode()\n",
    "scams_GA_AREA\n",
    "scams_GA_AREA.hist().plot(kind=\"bar\")\n",
    "plt.title(\"Histogram of area codes of scam calls in Georgia\")\n",
    "print(\"The most common area code that is on the spam list for Georgia is \", int(mostcom), \"which is from California\")\n"
   ]
  },
  {
   "cell_type": "markdown",
   "id": "3c3c8635",
   "metadata": {},
   "source": [
    "## Further analysis on scam call numbers:\n",
    "\n",
    "Although the most common area code is 707, which is a California area code, we see that there are aggregates of area codes which all correspond to the state of Georgia and sum up to be in greater occurrence than the CA area code, although each appears less in frequency than the CA area code. Nonetheless, there is a great number of callers from CA numbers that spam and scam GA."
   ]
  },
  {
   "cell_type": "code",
   "execution_count": 7,
   "id": "cbddd108",
   "metadata": {},
   "outputs": [],
   "source": [
    "val_cts_GA = scams_GA_AREA.value_counts().rename_axis('areacodes').reset_index(name='counts');(val_cts_GA)\n",
    "GA_area_coords = pd.merge(val_cts_GA,df_area_co_st_coord,how=\"left\",left_on=\"areacodes\",right_on=\"NPA\");\n",
    "GA_area_coords = GA_area_coords.dropna(); \n",
    "GA_area_coords = GA_area_coords.groupby(['Code','latitude','longitude']).agg({'counts':'sum'})\n",
    "\n",
    "GA_area_coords['text'] = \"<br>Number of callers: \" +GA_area_coords['counts'].astype(str)\n",
    "GA_area_coords = GA_area_coords.reset_index()\n",
    "# fig = go.Figure(data=go.Scattergeo(\n",
    "#         lon = GA_area_coords['longitude'],\n",
    "#         lat = GA_area_coords['latitude'],\n",
    "#         mode = 'markers',\n",
    "#        marker = dict(\n",
    "#             size = GA_area_coords['counts']/10),\n",
    "#         text = GA_area_coords['text']\n",
    "#         ))\n",
    "\n",
    "# fig.update_layout(\n",
    "#         title = 'Where the scammers are from for Georgia',\n",
    "#         geo_scope='usa',\n",
    "#     )\n",
    "# fig.show()\n"
   ]
  },
  {
   "cell_type": "markdown",
   "id": "68387516",
   "metadata": {},
   "source": [
    "![GA.png](plots/GA.png)"
   ]
  },
  {
   "cell_type": "code",
   "execution_count": 8,
   "id": "1840573b",
   "metadata": {},
   "outputs": [
    {
     "name": "stdout",
     "output_type": "stream",
     "text": [
      "The most common area code that is on the spam list for Alabama is  206 which is from Washington\n"
     ]
    },
    {
     "data": {
      "image/png": "[encoded data removed]",
      "text/plain": [
       "<Figure size 432x288 with 1 Axes>"
      ]
     },
     "metadata": {
      "needs_background": "light"
     },
     "output_type": "display_data"
    }
   ],
   "source": [
    "# Most common scam number in Alabama\n",
    "scams_AL = df_oct_wk[df_oct_wk[\"Consumer_State\"]==\"Alabama\"]\n",
    "scams_AL = scams_AL[(scams_AL[\"Scam AreaCode\"]>100) & (scams_AL[\"Scam AreaCode\"]<1000)]\n",
    "scams_AL_AREA = scams_AL[\"Scam AreaCode\"]\n",
    "mostcom = scams_AL_AREA.mode()\n",
    "\n",
    "scams_AL_AREA.hist()\n",
    "plt.title(\"Histogram of area codes of scam calls in Alabama\")\n",
    "print(\"The most common area code that is on the spam list for Alabama is \", int(mostcom), \"which is from Washington\")\n"
   ]
  },
  {
   "cell_type": "code",
   "execution_count": 9,
   "id": "9c337ec5",
   "metadata": {},
   "outputs": [],
   "source": [
    "val_cts_AL = scams_AL_AREA.value_counts().rename_axis('areacodes').reset_index(name='counts');\n",
    "AL_area_coords = pd.merge(val_cts_AL,df_area_co_st_coord,how=\"left\",left_on=\"areacodes\",right_on=\"NPA\");\n",
    "AL_area_coords = AL_area_coords.dropna(); \n",
    "AL_area_coords = AL_area_coords.groupby(['Code','latitude','longitude']).agg({'counts':'sum'})\n",
    "\n",
    "AL_area_coords['text'] = \"<br>Number of callers: \" +AL_area_coords['counts'].astype(str)\n",
    "AL_area_coords = AL_area_coords.reset_index()\n",
    "# fig = go.Figure(data=go.Scattergeo(\n",
    "#         lon = AL_area_coords['longitude'],\n",
    "#         lat = AL_area_coords['latitude'],\n",
    "#         mode = 'markers',\n",
    "#        marker = dict(\n",
    "#             size = AL_area_coords['counts']/10),\n",
    "#         text = AL_area_coords['text']\n",
    "#         ))\n",
    "\n",
    "# fig.update_layout(\n",
    "#         title = 'Where the scammers are from for Alabama',\n",
    "#         geo_scope='usa',\n",
    "#     )\n",
    "# fig.show()"
   ]
  },
  {
   "cell_type": "markdown",
   "id": "b3e1d6da",
   "metadata": {},
   "source": [
    "![AL.png](plots/AL.png)"
   ]
  },
  {
   "cell_type": "code",
   "execution_count": 10,
   "id": "8838d33e",
   "metadata": {},
   "outputs": [
    {
     "name": "stdout",
     "output_type": "stream",
     "text": [
      "The most common area code that is on the spam list for New York is  719 which is from Colorado\n"
     ]
    },
    {
     "data": {
      "image/png": "[encoded data removed]",
      "text/plain": [
       "<Figure size 432x288 with 1 Axes>"
      ]
     },
     "metadata": {
      "needs_background": "light"
     },
     "output_type": "display_data"
    }
   ],
   "source": [
    "# Most common scam number in New York\n",
    "scams_NY = df_oct_wk[df_oct_wk[\"Consumer_State\"]==\"New York\"]\n",
    "scams_NY = scams_NY[(scams_NY[\"Scam AreaCode\"]>100) & (scams_NY[\"Scam AreaCode\"]<1000)]\n",
    "scams_NY_AREA = scams_NY[\"Scam AreaCode\"]\n",
    "mostcom = scams_NY_AREA.mode()\n",
    "\n",
    "scams_NY_AREA.hist()\n",
    "plt.title(\"Histogram of area codes of scam calls in New York\")\n",
    "print(\"The most common area code that is on the spam list for New York is \", int(mostcom), \"which is from Colorado\")\n",
    "\n"
   ]
  },
  {
   "cell_type": "markdown",
   "id": "eefc47f4",
   "metadata": {},
   "source": [
    "Although Colorado was the most commonly appearing area code, this graph shows two things. 1) Area codes from NY when aggregated outnumber Colorado callers, and 2) area codes from Michigan are the second outnumbering calling state."
   ]
  },
  {
   "cell_type": "code",
   "execution_count": 11,
   "id": "bf463ccf",
   "metadata": {},
   "outputs": [],
   "source": [
    "val_cts_NY = scams_NY_AREA.value_counts().rename_axis('areacodes').reset_index(name='counts');\n",
    "NY_area_coords = pd.merge(val_cts_NY,df_area_co_st_coord,how=\"left\",left_on=\"areacodes\",right_on=\"NPA\");\n",
    "NY_area_coords = NY_area_coords.dropna(); \n",
    "NY_area_coords =NY_area_coords.groupby(['Code','latitude','longitude']).agg({'counts':'sum'})\n",
    "\n",
    "NY_area_coords['text'] = \"<br>Number of callers: \" +NY_area_coords['counts'].astype(str)\n",
    "NY_area_coords =NY_area_coords.reset_index()\n",
    "# fig = go.Figure(data=go.Scattergeo(\n",
    "#         lon = NY_area_coords['longitude'],\n",
    "#         lat = NY_area_coords['latitude'],\n",
    "#         mode = 'markers',\n",
    "#        marker = dict(\n",
    "#             size = NY_area_coords['counts']/10),\n",
    "#         text = NY_area_coords['text']\n",
    "#         ))\n",
    "\n",
    "# fig.update_layout(\n",
    "#         title = 'Where the scammers are from for New York',\n",
    "#         geo_scope='usa',\n",
    "#     )\n",
    "# fig.show()"
   ]
  },
  {
   "cell_type": "markdown",
   "id": "954ba5e6",
   "metadata": {},
   "source": [
    "![NY.png](plots/NY.png)"
   ]
  },
  {
   "cell_type": "code",
   "execution_count": 12,
   "id": "e45f386b",
   "metadata": {},
   "outputs": [
    {
     "name": "stdout",
     "output_type": "stream",
     "text": [
      "The most common area code that is on the spam list for New Jersey is  974 which is unidentifiable\n"
     ]
    },
    {
     "data": {
      "image/png": "[encoded data removed]",
      "text/plain": [
       "<Figure size 432x288 with 1 Axes>"
      ]
     },
     "metadata": {
      "needs_background": "light"
     },
     "output_type": "display_data"
    }
   ],
   "source": [
    "# Most common scam number in New Jersey\n",
    "scams_NJ = df_oct_wk[df_oct_wk[\"Consumer_State\"]==\"New Jersey\"]\n",
    "scams_NJ = scams_NJ[(scams_NJ[\"Scam AreaCode\"]>100) & (scams_NJ[\"Scam AreaCode\"]<1000)]\n",
    "scams_NJ_AREA = scams_NJ[\"Scam AreaCode\"]\n",
    "mostcom = scams_NJ_AREA.mode()\n",
    "\n",
    "scams_NJ_AREA.hist()\n",
    "plt.title(\"Histogram of area codes of scam calls in New Jersey\")\n",
    "print(\"The most common area code that is on the spam list for New Jersey is \", int(mostcom), \"which is unidentifiable\")\n"
   ]
  },
  {
   "cell_type": "markdown",
   "id": "a1755157",
   "metadata": {},
   "source": [
    "Although the mode of area code is 974, an unidentifiable number, we do see that when all the area codes are aggregated, the most scam/spam calling state for NJ, is NJ itself."
   ]
  },
  {
   "cell_type": "code",
   "execution_count": 13,
   "id": "5a0f9f26",
   "metadata": {},
   "outputs": [],
   "source": [
    "val_cts_NJ = scams_NJ_AREA.value_counts().rename_axis('areacodes').reset_index(name='counts');\n",
    "NJ_area_coords = pd.merge(val_cts_NJ,df_area_co_st_coord,how=\"left\",left_on=\"areacodes\",right_on=\"NPA\");\n",
    "NJ_area_coords =NJ_area_coords.dropna(); \n",
    "NJ_area_coords =NJ_area_coords.groupby(['Code','latitude','longitude']).agg({'counts':'sum'})\n",
    "\n",
    "NJ_area_coords['text'] = \"<br>Number of callers: \" +NJ_area_coords['counts'].astype(str)\n",
    "NJ_area_coords =NJ_area_coords.reset_index()\n",
    "# fig = go.Figure(data=go.Scattergeo(\n",
    "#         lon = NJ_area_coords['longitude'],\n",
    "#         lat = NJ_area_coords['latitude'],\n",
    "#         mode = 'markers',\n",
    "#        marker = dict(\n",
    "#             size = NJ_area_coords['counts']/10),\n",
    "#         text = NJ_area_coords['text']\n",
    "#         ))\n",
    "\n",
    "# fig.update_layout(\n",
    "#         title = 'Where the scammers are from for New Jersey',\n",
    "#         geo_scope='usa',\n",
    "#     )\n",
    "# fig.show()"
   ]
  },
  {
   "cell_type": "markdown",
   "id": "07853145",
   "metadata": {},
   "source": [
    "![NJ.png](plots/NJ.png)"
   ]
  }
 ],
 "metadata": {
  "kernelspec": {
   "display_name": "Python 3",
   "language": "python",
   "name": "python3"
  },
  "language_info": {
   "codemirror_mode": {
    "name": "ipython",
    "version": 3
   },
   "file_extension": ".py",
   "mimetype": "text/x-python",
   "name": "python",
   "nbconvert_exporter": "python",
   "pygments_lexer": "ipython3",
   "version": "3.8.8"
  }
 },
 "nbformat": 4,
 "nbformat_minor": 5
}
